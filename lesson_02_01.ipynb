{
 "cells": [
  {
   "cell_type": "markdown",
   "metadata": {},
   "source": [
    "## Практическое задание №3 ##"
   ]
  },
  {
   "cell_type": "markdown",
   "metadata": {},
   "source": [
    "__1.__ Установить, какие произведения матриц $AB$ и $BA$ определены, и найти размерности полученных матриц:\n",
    "    \n",
    "Для перемножения матриц необходимо, чтобы число столбцов матрицы $A$ было равно числу строк матрицы $B$\n",
    "\n",
    "а) $A$ — матрица $4\\times 2$, $B$ — матрица $4\\times 2$\n",
    "\n",
    "$$4 \\times 2\\ *\\ 4 \\times 2 ,\\ 2\\ne4 => \\text{перемножать матрицы нельзя}$$\n",
    "\n",
    "б) $A$ — матрица $2\\times 5$, $B$ — матрица $5\\times 3$;\n",
    "    \n",
    "$$2 \\times 5\\ *\\ 5 \\times 3 ,\\ 5 == 5 => \\text{получившаяся матрица будeт размерности} \\ 2 \\times 3$$\n",
    "  \n",
    "в) $A$ — матрица $8\\times 3$, $B$ — матрица $3\\times 8$;\n",
    "\n",
    "$$8 \\times 3\\ *\\ 3 \\times 8 ,\\ 3 == 3 => \\text{получившаяся матрица будет размерности} \\ 8 \\times 8$$\n",
    "  \n",
    "г) $A$ — квадратная матрица $4\\times 4$, $B$ — квадратная матрица $4\\times 4$.\n",
    "\n",
    "$$4 \\times 4\\ *\\ 4 \\times 4 ,\\ 4 == 4 => \\text{получившаяся матрица будет размерности} \\ 4 \\times 4$$\n"
   ]
  },
  {
   "cell_type": "markdown",
   "metadata": {},
   "source": [
    "__2.__ Найти сумму и произведение матриц $A=\\begin{pmatrix}\n",
    "1 & -2\\\\\\\\\n",
    "3 & 0\n",
    "\\end{pmatrix}$ и $B=\\begin{pmatrix}\n",
    "4 & -1\\\\\\\\\n",
    "0 & 5\n",
    "\\end{pmatrix}.$\n",
    "  \n",
    "Решение:\n",
    "$$ A + B = \\begin{pmatrix} 5 & -3\\\\\\\\  3 & 5 \\end{pmatrix}$$\n",
    "\n",
    "$$ A \\cdot B =\n",
    "    \\begin{pmatrix}\n",
    "    1\\cdot 4 + -2\\cdot 0 & 1\\cdot(-1) + (-2)\\cdot(5)\\\\\\\\\n",
    "    3\\cdot 4 + 0\\cdot 0 & 3\\cdot(-1) + 0\\cdot 5\n",
    "    \\end{pmatrix} = \n",
    "    \\begin{pmatrix}\n",
    "    4 & -11\\\\\\\\ \n",
    "    12 & -3\n",
    "    \\end{pmatrix}\n",
    "    $$"
   ]
  },
  {
   "cell_type": "markdown",
   "metadata": {},
   "source": [
    "__3.__ Из закономерностей сложения и умножения матриц на число можно сделать вывод, что матрицы одного размера образуют линейное пространство. Вычислить линейную комбинацию $3A-2B+4C$ для матриц $A=\\begin{pmatrix}\n",
    "1 & 7\\\\\\\\\n",
    "3 & -6\n",
    "\\end{pmatrix}$, $B=\\begin{pmatrix}\n",
    "0 & 5\\\\\\\\\n",
    "2 & -1\n",
    "\\end{pmatrix}$, $C=\\begin{pmatrix}\n",
    "2 & -4\\\\\\\\\n",
    "1 & 1\n",
    "\\end{pmatrix}.$\n",
    "   \n",
    "Решение:\n",
    "$$3A-2B+4C = \\begin{pmatrix} 11 & -5 \\\\\\\\  9 & -12 \\end{pmatrix}$$\n",
    "  \n",
    "__4.__ Дана матрица $A=\\begin{pmatrix}\n",
    "4 & 1\\\\\\\\\n",
    "5 & -2\\\\\\\\\n",
    "2 & 3\n",
    "\\end{pmatrix}$\n",
    "\n",
    "A^T=\\\\begin{pmatrix}\n",
    "4 & 5 & 2\\\\\\\\\n",
    "1 & -2 & 3\\\\\\\\\n",
    "\\end{pmatrix}\n",
    "\n",
    "Вычислить $AA^{T}$ и $A^{T}A$\n",
    "Решение:\n",
    "\n",
    "$$AA^{T} = \\begin{pmatrix}\n",
    "4\\cdot4+1\\cdot1 & 4\\cdot5+1\\cdot(-2) & 4\\cdot2+1\\cdot3\\\\\\\\\n",
    "5\\cdot4+(-2)\\cdot1 & 5\\cdot5+(-2)\\cdot(-2) & 5\\cdot2+(-2)\\cdot3\\\\\\\\\n",
    "2\\cdot4+3\\cdot1 & 2\\cdot5+3\\cdot(-2) & 2\\cdot2+3\\cdot3,\n",
    "\\end{pmatrix} = \\begin{pmatrix}\n",
    "15 & 18 & 11\\\\\\\\\n",
    "18 & 21 & 4\\\\\\\\\n",
    "11 & 4 & 13\n",
    "\\end{pmatrix} $$\n",
    "\n",
    "$$A^{T}A = \\begin{pmatrix}\n",
    "4\\cdot4+5\\cdot5 + 2\\cdot2 & 4\\cdot1+5\\cdot(-2)+2\\cdot3\\\\\\\\\n",
    "1\\cdot4+(-2)\\cdot5 + 3\\cdot2 & 1\\cdot1+(-2)\\cdot(-2)+3\\cdot3\n",
    "\\end{pmatrix} = \\begin{pmatrix}\n",
    "45 & 0 \\\\\\\\\n",
    "0 & 14\\\\\\\\\n",
    "\\end{pmatrix} $$\n",
    "   "
   ]
  },
  {
   "cell_type": "code",
   "execution_count": null,
   "metadata": {},
   "outputs": [],
   "source": []
  }
 ],
 "metadata": {
  "kernelspec": {
   "display_name": "Python 3",
   "language": "python",
   "name": "python3"
  },
  "language_info": {
   "codemirror_mode": {
    "name": "ipython",
    "version": 3
   },
   "file_extension": ".py",
   "mimetype": "text/x-python",
   "name": "python",
   "nbconvert_exporter": "python",
   "pygments_lexer": "ipython3",
   "version": "3.8.5"
  }
 },
 "nbformat": 4,
 "nbformat_minor": 4
}
